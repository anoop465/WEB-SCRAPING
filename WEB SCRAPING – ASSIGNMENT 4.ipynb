{
 "cells": [
  {
   "cell_type": "markdown",
   "id": "0d08b5b6",
   "metadata": {},
   "source": [
    "6. Scrape the details of Highest selling novels.\n",
    "A) Book name\n",
    "B) Author name\n",
    "C) Volumes sold\n",
    "D) Publisher\n",
    "E) Genre\n",
    "\n",
    "\n",
    "Url - https://www.theguardian.com/news/datablog/2012/aug/09/best-selling-books-all-time-fifty-shades-grey-compare"
   ]
  },
  {
   "cell_type": "code",
   "execution_count": 83,
   "id": "1483f84c",
   "metadata": {},
   "outputs": [],
   "source": [
    "# Importing Libraries\n",
    "\n",
    "import selenium \n",
    "import pandas as pd\n",
    "import time \n",
    "from bs4 import BeautifulSoup\n",
    "\n",
    "# Importing selenium Webdriver\n",
    "from selenium import webdriver\n",
    "\n",
    "#Importing required Exceptons which needs to handled\n",
    "\n",
    "from selenium.common.exceptions import StaleElementReferenceException, NoSuchElementException\n",
    "\n",
    "#Importing requests\n",
    "import requests\n",
    "\n",
    "from selenium.webdriver.common.by import By\n",
    "import csv "
   ]
  },
  {
   "cell_type": "code",
   "execution_count": 90,
   "id": "16d07d75",
   "metadata": {},
   "outputs": [],
   "source": [
    "driver=webdriver.Chrome()\n",
    "driver.get(\"https://www.theguardian.com/news/datablog/2012/aug/09/best-selling-books-all-time-fifty-shades-grey-compare\")"
   ]
  },
  {
   "cell_type": "code",
   "execution_count": 91,
   "id": "e1a140bd",
   "metadata": {},
   "outputs": [],
   "source": [
    "table_body = driver.find_element(By.XPATH,'//*[@id=\"article-body-blocks\"]/div/table/tbody')"
   ]
  },
  {
   "cell_type": "code",
   "execution_count": 92,
   "id": "183e4168",
   "metadata": {},
   "outputs": [],
   "source": [
    "table_rows=table_body.find_elements(By.TAG_NAME,\"tr\")"
   ]
  },
  {
   "cell_type": "code",
   "execution_count": 93,
   "id": "2a5af8ee",
   "metadata": {},
   "outputs": [],
   "source": [
    "with open (\"novels_data.csv\",\"w\",newline=\"\") as file:\n",
    "    writer = csv.writer(file)\n",
    "    for row in table_rows:\n",
    "        table_data = row.find_elements(By.CSS_SELECTOR,\"td, th\")\n",
    "        row_data = []\n",
    "        for data in table_data:\n",
    "            row_data.append(data.text)\n",
    "        writer.writerow(row_data)    \n",
    "            "
   ]
  },
  {
   "cell_type": "code",
   "execution_count": 106,
   "id": "b34a740a",
   "metadata": {},
   "outputs": [],
   "source": [
    "df1=pd.read_csv('novels_data.csv',sep=',',header=0,names=['Rank','Book_name','Author name','Volumes sold','Publisher','Genre'],index_col='Rank')"
   ]
  },
  {
   "cell_type": "code",
   "execution_count": 107,
   "id": "f3adf874",
   "metadata": {},
   "outputs": [
    {
     "data": {
      "text/html": [
       "<div>\n",
       "<style scoped>\n",
       "    .dataframe tbody tr th:only-of-type {\n",
       "        vertical-align: middle;\n",
       "    }\n",
       "\n",
       "    .dataframe tbody tr th {\n",
       "        vertical-align: top;\n",
       "    }\n",
       "\n",
       "    .dataframe thead th {\n",
       "        text-align: right;\n",
       "    }\n",
       "</style>\n",
       "<table border=\"1\" class=\"dataframe\">\n",
       "  <thead>\n",
       "    <tr style=\"text-align: right;\">\n",
       "      <th></th>\n",
       "      <th>Book_name</th>\n",
       "      <th>Author name</th>\n",
       "      <th>Volumes sold</th>\n",
       "      <th>Publisher</th>\n",
       "      <th>Genre</th>\n",
       "    </tr>\n",
       "    <tr>\n",
       "      <th>Rank</th>\n",
       "      <th></th>\n",
       "      <th></th>\n",
       "      <th></th>\n",
       "      <th></th>\n",
       "      <th></th>\n",
       "    </tr>\n",
       "  </thead>\n",
       "  <tbody>\n",
       "    <tr>\n",
       "      <th>1</th>\n",
       "      <td>Da Vinci Code,The</td>\n",
       "      <td>Brown, Dan</td>\n",
       "      <td>5,094,805</td>\n",
       "      <td>Transworld</td>\n",
       "      <td>Crime, Thriller &amp; Adventure</td>\n",
       "    </tr>\n",
       "  </tbody>\n",
       "</table>\n",
       "</div>"
      ],
      "text/plain": [
       "              Book_name Author name Volumes sold   Publisher  \\\n",
       "Rank                                                           \n",
       "1     Da Vinci Code,The  Brown, Dan    5,094,805  Transworld   \n",
       "\n",
       "                            Genre  \n",
       "Rank                               \n",
       "1     Crime, Thriller & Adventure  "
      ]
     },
     "execution_count": 107,
     "metadata": {},
     "output_type": "execute_result"
    }
   ],
   "source": [
    "df1.head(1)"
   ]
  },
  {
   "cell_type": "markdown",
   "id": "6c65261e",
   "metadata": {},
   "source": [
    "1. Scrape the details of most viewed videos on YouTube from Wikipedia.                                                            Url = https://en.wikipedia.org/wiki/List_of_most-viewed_YouTube_videos You need to find following details:                        A) Rank\n",
    "B) Name\n",
    "C) Artist\n",
    "D) Upload date\n",
    "E) Views"
   ]
  },
  {
   "cell_type": "code",
   "execution_count": 108,
   "id": "2d7f01d3",
   "metadata": {},
   "outputs": [],
   "source": [
    "driver=webdriver.Chrome()\n",
    "driver.get(\"https://en.wikipedia.org/wiki/List_of_most-viewed_YouTube_videos\")"
   ]
  },
  {
   "cell_type": "code",
   "execution_count": 118,
   "id": "f99e12f8",
   "metadata": {},
   "outputs": [],
   "source": [
    "table_body = driver.find_element(By.XPATH,'//*[@id=\"mw-content-text\"]/div[1]/table[2]/tbody')"
   ]
  },
  {
   "cell_type": "code",
   "execution_count": 119,
   "id": "7f3630ed",
   "metadata": {},
   "outputs": [],
   "source": [
    "table_rows=table_body.find_elements(By.TAG_NAME,\"tr\")"
   ]
  },
  {
   "cell_type": "code",
   "execution_count": 137,
   "id": "6f08c89b",
   "metadata": {},
   "outputs": [],
   "source": [
    "with open (\"mostview_data.csv\",\"w\",newline=\"\", encoding='utf-8',errors='ignore') as file:\n",
    "    writer = csv.writer(file)\n",
    "    for row in table_rows:\n",
    "        table_data = row.find_elements(By.CSS_SELECTOR,\"td, th\")\n",
    "        row_data = []\n",
    "        for data in table_data:\n",
    "            row_data.append(data.text)\n",
    "        writer.writerow(row_data)    \n",
    "            "
   ]
  },
  {
   "cell_type": "code",
   "execution_count": 141,
   "id": "e1f38837",
   "metadata": {},
   "outputs": [],
   "source": [
    "df2=pd.read_csv('mostview_data.csv',sep=',',header=0,names=['Name','Artist','Views','Upload date'])"
   ]
  },
  {
   "cell_type": "code",
   "execution_count": 148,
   "id": "e644032b",
   "metadata": {},
   "outputs": [
    {
     "data": {
      "text/html": [
       "<div>\n",
       "<style scoped>\n",
       "    .dataframe tbody tr th:only-of-type {\n",
       "        vertical-align: middle;\n",
       "    }\n",
       "\n",
       "    .dataframe tbody tr th {\n",
       "        vertical-align: top;\n",
       "    }\n",
       "\n",
       "    .dataframe thead th {\n",
       "        text-align: right;\n",
       "    }\n",
       "</style>\n",
       "<table border=\"1\" class=\"dataframe\">\n",
       "  <thead>\n",
       "    <tr style=\"text-align: right;\">\n",
       "      <th></th>\n",
       "      <th>Name</th>\n",
       "      <th>Artist</th>\n",
       "      <th>Views</th>\n",
       "      <th>Upload date</th>\n",
       "    </tr>\n",
       "  </thead>\n",
       "  <tbody>\n",
       "    <tr>\n",
       "      <th>0</th>\n",
       "      <td>\"Baby Shark Dance\"[6]</td>\n",
       "      <td>Pinkfong Baby Shark - Kids' Songs &amp; Stories</td>\n",
       "      <td>14.09</td>\n",
       "      <td>17-Jun-16</td>\n",
       "    </tr>\n",
       "  </tbody>\n",
       "</table>\n",
       "</div>"
      ],
      "text/plain": [
       "                    Name                                       Artist  Views  \\\n",
       "0  \"Baby Shark Dance\"[6]  Pinkfong Baby Shark - Kids' Songs & Stories  14.09   \n",
       "\n",
       "  Upload date  \n",
       "0   17-Jun-16  "
      ]
     },
     "execution_count": 148,
     "metadata": {},
     "output_type": "execute_result"
    }
   ],
   "source": [
    "df2.iloc[0:1,0:5]"
   ]
  },
  {
   "cell_type": "code",
   "execution_count": null,
   "id": "b42ca81c",
   "metadata": {},
   "outputs": [],
   "source": []
  }
 ],
 "metadata": {
  "kernelspec": {
   "display_name": "Python 3 (ipykernel)",
   "language": "python",
   "name": "python3"
  },
  "language_info": {
   "codemirror_mode": {
    "name": "ipython",
    "version": 3
   },
   "file_extension": ".py",
   "mimetype": "text/x-python",
   "name": "python",
   "nbconvert_exporter": "python",
   "pygments_lexer": "ipython3",
   "version": "3.9.13"
  }
 },
 "nbformat": 4,
 "nbformat_minor": 5
}
